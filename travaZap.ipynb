{
  "cells": [
    {
      "cell_type": "code",
      "execution_count": 14,
      "metadata": {
        "colab": {
          "base_uri": "https://localhost:8080/",
          "height": 81
        },
        "id": "HEpsO7YHKyHP",
        "outputId": "a81118ef-b31b-4948-f402-b7463f04fb68"
      },
      "outputs": [
        {
          "data": {
            "text/html": [
              "<div>\n",
              "<style scoped>\n",
              "    .dataframe tbody tr th:only-of-type {\n",
              "        vertical-align: middle;\n",
              "    }\n",
              "\n",
              "    .dataframe tbody tr th {\n",
              "        vertical-align: top;\n",
              "    }\n",
              "\n",
              "    .dataframe thead th {\n",
              "        text-align: right;\n",
              "    }\n",
              "</style>\n",
              "<table border=\"1\" class=\"dataframe\">\n",
              "  <thead>\n",
              "    <tr style=\"text-align: right;\">\n",
              "      <th></th>\n",
              "      <th>nome</th>\n",
              "      <th>numero</th>\n",
              "      <th>mensagem</th>\n",
              "    </tr>\n",
              "  </thead>\n",
              "  <tbody>\n",
              "    <tr>\n",
              "      <th>0</th>\n",
              "      <td>alice</td>\n",
              "      <td>5535998535605</td>\n",
              "      <td>hello world</td>\n",
              "    </tr>\n",
              "  </tbody>\n",
              "</table>\n",
              "</div>"
            ],
            "text/plain": [
              "    nome         numero      mensagem\n",
              "0  alice  5535998535605  hello world "
            ]
          },
          "metadata": {},
          "output_type": "display_data"
        }
      ],
      "source": [
        "import pandas as pd\n",
        "\n",
        "#contatos_df = pd.read_excel(\"enviar.xlsx\")\n",
        "contatos = {\n",
        "    'nome':['alice'],\n",
        "    'numero':[5535998535605],\n",
        "    'mensagem':['hello world ']\n",
        "}\n",
        "\n",
        "contatos_df = pd.DataFrame(contatos)\n",
        "\n",
        "display(contatos_df)"
      ]
    },
    {
      "cell_type": "code",
      "execution_count": 15,
      "metadata": {},
      "outputs": [],
      "source": [
        "from selenium import webdriver\n",
        "from selenium.webdriver.common.keys import Keys\n",
        "import time\n",
        "import urllib\n",
        "\n",
        "navegador = webdriver.Chrome()\n",
        "navegador.get(\"https://web.whatsapp.com/\")"
      ]
    },
    {
      "cell_type": "code",
      "execution_count": 17,
      "metadata": {},
      "outputs": [
        {
          "ename": "AttributeError",
          "evalue": "'WebDriver' object has no attribute 'find_element_by_xpath'",
          "output_type": "error",
          "traceback": [
            "\u001b[1;31m---------------------------------------------------------------------------\u001b[0m",
            "\u001b[1;31mAttributeError\u001b[0m                            Traceback (most recent call last)",
            "Cell \u001b[1;32mIn[17], line 9\u001b[0m\n\u001b[0;32m      6\u001b[0m link \u001b[39m=\u001b[39m \u001b[39mf\u001b[39m\u001b[39m\"\u001b[39m\u001b[39mhttps://web.whatsapp.com/send?phone=\u001b[39m\u001b[39m{\u001b[39;00mnumero\u001b[39m}\u001b[39;00m\u001b[39m&text=\u001b[39m\u001b[39m{\u001b[39;00mtexto\u001b[39m}\u001b[39;00m\u001b[39m\"\u001b[39m\n\u001b[0;32m      7\u001b[0m navegador\u001b[39m.\u001b[39mget(link)\n\u001b[1;32m----> 9\u001b[0m navegador\u001b[39m.\u001b[39;49mfind_element_by_xpath(\u001b[39m'\u001b[39m\u001b[39m/html/body/div/div/div/footer/div[1]/footer/div/div/span/div/div[1]/div[1]\u001b[39m\u001b[39m'\u001b[39m)\u001b[39m.\u001b[39msend_keys(Keys\u001b[39m.\u001b[39mENTER)\n\u001b[0;32m     10\u001b[0m time\u001b[39m.\u001b[39msleep(\u001b[39m10\u001b[39m)\n",
            "\u001b[1;31mAttributeError\u001b[0m: 'WebDriver' object has no attribute 'find_element_by_xpath'"
          ]
        }
      ],
      "source": [
        "# já estamos com o login feito no whatsapp web\n",
        "for i, mensagem in enumerate(contatos_df['mensagem']):\n",
        "    pessoa = contatos_df.loc[i, \"nome\"]\n",
        "    numero = contatos_df.loc[i, \"numero\"]\n",
        "    texto = urllib.parse.quote(f\"Oi {pessoa}! {mensagem}\")\n",
        "    link = f\"https://web.whatsapp.com/send?phone={numero}&text={texto}\"\n",
        "    navegador.get(link)\n",
        "\n",
        "    navegador.find_element_by_xpath('/html/body/div/div/div/footer/div[1]/footer/div/div/span/div/div[1]/div[1]').send_keys(Keys.ENTER)\n",
        "    time.sleep(10)"
      ]
    }
  ],
  "metadata": {
    "colab": {
      "provenance": []
    },
    "kernelspec": {
      "display_name": "Python 3",
      "name": "python3"
    },
    "language_info": {
      "codemirror_mode": {
        "name": "ipython",
        "version": 3
      },
      "file_extension": ".py",
      "mimetype": "text/x-python",
      "name": "python",
      "nbconvert_exporter": "python",
      "pygments_lexer": "ipython3",
      "version": "3.11.1"
    }
  },
  "nbformat": 4,
  "nbformat_minor": 0
}
